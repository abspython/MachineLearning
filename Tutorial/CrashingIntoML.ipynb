{
 "cells": [
  {
   "cell_type": "markdown",
   "metadata": {},
   "source": [
    "# Models\n",
    "--------\n",
    "## Regression\n",
    "A regression model predicts continuous values. For example, regression models make predictions that answer questions like the following:\n",
    "* What is the value of a house in California?\n",
    "\n",
    "## Classification\n",
    "A classification model predicts discrete values. For example, classification models make predictions that answer questions like the following:\n",
    "* Is a given email message spam or not spam?"
   ]
  },
  {
   "cell_type": "markdown",
   "metadata": {},
   "source": [
    "### Linear Regression\n",
    "\n",
    "A linear relationship..\n",
    "\\begin{equation*}\n",
    "y' = w_1x_1 + b\n",
    "\\end{equation*}\n",
    "\n",
    "where,\n",
    "* y' is the predicted label(output)\n",
    "* b is bias\n",
    "* w1 is weight of feature1(like slope)\n",
    "* x1 is a feature(known input)"
   ]
  },
  {
   "cell_type": "markdown",
   "metadata": {},
   "source": [
    "--------\n",
    "### Loss\n",
    "\n",
    "Loss = difference between prediction and actual.\n",
    "Commonly loss function used is L2Loss or squared error. It is found by calculating the square(observation - prediction).\n",
    "\n",
    "Or \n",
    "\\begin{equation*}\n",
    "L_2Loss = (y-y')^2\n",
    "\\end{equation*}\n",
    "\n",
    "We are trying to minimise the loss not only in a single function but in the whole dataset."
   ]
  },
  {
   "cell_type": "markdown",
   "metadata": {},
   "source": [
    "### Reducing Loss\n",
    "We need to calculate Gradient of the loss function.\n",
    "The loss function is shifted to the direction of the negative value of the Gradient and the ML model is updated and the cycle continues until it reaches local minima where loss function is lowest.\n",
    "\n",
    "The learning rate or the step rate of the model is a key to finding the Gradient of the loss function."
   ]
  }
 ],
 "metadata": {
  "kernelspec": {
   "display_name": "Python 3",
   "language": "python",
   "name": "python3"
  },
  "language_info": {
   "codemirror_mode": {
    "name": "ipython",
    "version": 3
   },
   "file_extension": ".py",
   "mimetype": "text/x-python",
   "name": "python",
   "nbconvert_exporter": "python",
   "pygments_lexer": "ipython3",
   "version": "3.7.1"
  }
 },
 "nbformat": 4,
 "nbformat_minor": 2
}
