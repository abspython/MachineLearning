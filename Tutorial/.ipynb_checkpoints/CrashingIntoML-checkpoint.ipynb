{
 "cells": [
  {
   "cell_type": "markdown",
   "metadata": {},
   "source": [
    "# Models\n",
    "--------\n",
    "## Regression\n",
    "A regression model predicts continuous values. For example, regression models make predictions that answer questions like the following:\n",
    "* What is the value of a house in California?\n",
    "\n",
    "## Classification\n",
    "A classification model predicts discrete values. For example, classification models make predictions that answer questions like the following:\n",
    "* Is a given email message spam or not spam?"
   ]
  },
  {
   "cell_type": "markdown",
   "metadata": {},
   "source": [
    "### Linear Regression\n",
    "\n",
    "A linear relationship..\n",
    "\\begin{equation*}\n",
    "y' = w_1x_1 + b\n",
    "\\end{equation*}\n",
    "\n",
    "where,\n",
    "* y' is the predicted label(output)\n",
    "* b is bias\n",
    "* w1 is weight of feature1(like slope)\n",
    "* x1 is a feature(known input)"
   ]
  },
  {
   "cell_type": "markdown",
   "metadata": {},
   "source": [
    "--------\n",
    "### Loss\n",
    "\n",
    "Loss = difference between prediction and actual.\n",
    "Commonly loss function used is L2Loss or squared error. It is found by calculating the square(observation - prediction).\n",
    "\n",
    "Or \n",
    "\\begin{equation*}\n",
    "L_2Loss = (y-y')^2\n",
    "\\end{equation*}\n",
    "\n",
    "We are trying to minimise the loss not only in a single function but in the whole dataset."
   ]
  },
  {
   "cell_type": "markdown",
   "metadata": {},
   "source": [
    "### Reducing Loss\n",
    "We need to calculate Gradient of the loss function.\n",
    "The loss function is shifted to the direction of the negative value of the Gradient and the ML model is updated and the cycle continues until it reaches local minima where loss function is lowest.\n",
    "\n",
    "The learning rate or the step rate of the model is a key to finding the Gradient of the loss function."
   ]
  },
  {
   "cell_type": "markdown",
   "metadata": {},
   "source": [
    "## TensorFlow\n",
    "\n",
    "Example of usage of TensorFlow API in ML"
   ]
  },
  {
   "cell_type": "code",
   "execution_count": 1,
   "metadata": {},
   "outputs": [
    {
     "ename": "ModuleNotFoundError",
     "evalue": "No module named 'tensorflow'",
     "output_type": "error",
     "traceback": [
      "\u001b[0;31m---------------------------------------------------------------------------\u001b[0m",
      "\u001b[0;31mModuleNotFoundError\u001b[0m                       Traceback (most recent call last)",
      "\u001b[0;32m<ipython-input-1-bc1ab5fdb9e7>\u001b[0m in \u001b[0;36m<module>\u001b[0;34m\u001b[0m\n\u001b[0;32m----> 1\u001b[0;31m \u001b[0;32mimport\u001b[0m \u001b[0mtensorflow\u001b[0m \u001b[0;32mas\u001b[0m \u001b[0mtf\u001b[0m\u001b[0;34m\u001b[0m\u001b[0;34m\u001b[0m\u001b[0m\n\u001b[0m\u001b[1;32m      2\u001b[0m \u001b[0;34m\u001b[0m\u001b[0m\n\u001b[1;32m      3\u001b[0m \u001b[0;31m#Setting up linear classification\u001b[0m\u001b[0;34m\u001b[0m\u001b[0;34m\u001b[0m\u001b[0;34m\u001b[0m\u001b[0m\n\u001b[1;32m      4\u001b[0m \u001b[0mclassifier\u001b[0m \u001b[0;34m=\u001b[0m \u001b[0mtf\u001b[0m\u001b[0;34m.\u001b[0m\u001b[0mestimator\u001b[0m\u001b[0;34m.\u001b[0m\u001b[0mLinearClassifier\u001b[0m\u001b[0;34m(\u001b[0m\u001b[0mfeature_columns\u001b[0m\u001b[0;34m)\u001b[0m\u001b[0;34m\u001b[0m\u001b[0;34m\u001b[0m\u001b[0m\n\u001b[1;32m      5\u001b[0m \u001b[0;34m\u001b[0m\u001b[0m\n",
      "\u001b[0;31mModuleNotFoundError\u001b[0m: No module named 'tensorflow'"
     ]
    }
   ],
   "source": [
    "import tensorflow as tf\n",
    "\n",
    "#Setting up linear classification\n",
    "classifier = tf.estimator.LinearClassifier(feature_columns)\n",
    "\n",
    "#Traning the model on sample data\n",
    "classifier.train(input_fn=train_input_fn, steps=2000)\n",
    "\n",
    "#Use it to predict\n",
    "predictions = classifier.predict(input_fn=predict_input)"
   ]
  }
 ],
 "metadata": {
  "kernelspec": {
   "display_name": "Python 3",
   "language": "python",
   "name": "python3"
  },
  "language_info": {
   "codemirror_mode": {
    "name": "ipython",
    "version": 3
   },
   "file_extension": ".py",
   "mimetype": "text/x-python",
   "name": "python",
   "nbconvert_exporter": "python",
   "pygments_lexer": "ipython3",
   "version": "3.7.1"
  }
 },
 "nbformat": 4,
 "nbformat_minor": 2
}
